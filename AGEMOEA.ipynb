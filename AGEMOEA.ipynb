{
 "cells": [
  {
   "cell_type": "code",
   "execution_count": 6,
   "metadata": {},
   "outputs": [],
   "source": [
    "import numpy as np\n",
    "import pandas as pd\n",
    "from ta import momentum\n",
    "import ccxt\n",
    "from pymoo.algorithms.moo.age import AGEMOEA\n",
    "from pymoo.core.problem import Problem\n",
    "from pymoo.problems import get_problem\n",
    "from pymoo.optimize import minimize\n",
    "from pymoo.visualization.scatter import Scatter"
   ]
  },
  {
   "cell_type": "code",
   "execution_count": 7,
   "metadata": {},
   "outputs": [],
   "source": [
    "fee = 0.01\n",
    "\n",
    "def fetch_data(timeframe):\n",
    "    exchange = ccxt.kraken()\n",
    "    start_timestamp = 1451606400000  # timestamp for 1 Jan 2016\n",
    "    end_timestamp = 1651392000000  # timestamp for 1 May 2023\n",
    "    interval_seconds = exchange.parse_timeframe(timeframe) * 60  # convert timeframe to seconds\n",
    "    limit = int((end_timestamp - start_timestamp) / interval_seconds) + 1\n",
    "    ohlcv = exchange.fetch_ohlcv('BTC/AUD', timeframe=timeframe, since=start_timestamp, limit=limit)\n",
    "    return ohlcv\n",
    "\n",
    "ohlcv = fetch_data('1d')\n",
    "df = pd.DataFrame(ohlcv)\n",
    "df.columns = ['time', 'open', 'high', 'low', 'close', 'volume']\n",
    "df['time'] = pd.to_datetime(df['time'], unit='ms')\n",
    "df['returns'] = df['close'].pct_change()\n",
    "\n",
    "def rsi_strategy(rsi_period, rsi_sell, rsi_buy, df):\n",
    "    rsi_sell = int(rsi_sell)\n",
    "    rsi_period = int(rsi_period)\n",
    "    rsi_buy = int(rsi_buy)\n",
    "    df['RSI'] = momentum.rsi(df['close'],rsi_period)\n",
    "    df['rsi_signal'] = 1*(df['RSI'] > rsi_buy)- 1*(df['RSI'] < rsi_sell)\n",
    "    start = rsi_period\n",
    "    RSI_return = np.array(df['returns'][start+1:])*np.array(df['rsi_signal'][start+1:]) - fee*abs(np.array(df['rsi_signal'][start+1:]) - np.array(df['rsi_signal'][start:-1]))\n",
    "    RSI = np.prod(1+RSI_return)**(252/len(RSI_return)) - 1\n",
    "    RSI_risk = np.std(RSI_return)*252*0.5\n",
    "    return RSI, 1/RSI_risk\n",
    "net_profit, risk = rsi_strategy(25, 30, 70, df)\n"
   ]
  },
  {
   "cell_type": "code",
   "execution_count": 27,
   "metadata": {},
   "outputs": [],
   "source": [
    "class RSIStrategyProblem(Problem):\n",
    "\n",
    "    def __init__(self, df):\n",
    "        super().__init__(n_var=3,\n",
    "                         n_obj=2,\n",
    "                         n_constr=0,\n",
    "                         xl=np.array([5, 20, 60]),\n",
    "                         xu=np.array([30, 40, 80]))\n",
    "\n",
    "        self.df = df\n",
    "\n",
    "    def _evaluate(self, X, out, *args, **kwargs):\n",
    "        f1 = []\n",
    "        f2 = []\n",
    "\n",
    "        for i in range(X.shape[0]):\n",
    "            rsi_period, rsi_sell, rsi_buy = X[i, :]\n",
    "            net_profit, std_dev = rsi_strategy(rsi_period, rsi_sell, rsi_buy, self.df)\n",
    "            f1.append(net_profit)\n",
    "            f2.append(std_dev)\n",
    "\n",
    "        k = 0\n",
    "        while k < len(f2):\n",
    "            if f2[k] < 0:\n",
    "                f1[k].remove()\n",
    "                f2[k].remove()\n",
    "            k += 1\n",
    "\n",
    "\n",
    "        out[\"F\"] = np.column_stack([f1, f2])"
   ]
  },
  {
   "cell_type": "code",
   "execution_count": 36,
   "metadata": {},
   "outputs": [
    {
     "name": "stderr",
     "output_type": "stream",
     "text": [
      "C:\\Users\\cwalt\\AppData\\Local\\Temp\\ipykernel_29532\\2508952609.py:30: RuntimeWarning: divide by zero encountered in double_scalars\n",
      "  return RSI, 1/RSI_risk\n"
     ]
    },
    {
     "data": {
      "text/plain": [
       "<pymoo.visualization.scatter.Scatter at 0x22a30a6a740>"
      ]
     },
     "execution_count": 36,
     "metadata": {},
     "output_type": "execute_result"
    },
    {
     "data": {
      "image/png": "[encoded data removed]",
      "text/plain": [
       "<Figure size 800x600 with 1 Axes>"
      ]
     },
     "metadata": {},
     "output_type": "display_data"
    }
   ],
   "source": [
    "problem = RSIStrategyProblem(df)\n",
    "\n",
    "algorithm = AGEMOEA(pop_size=100)\n",
    "\n",
    "\n",
    "res = minimize(problem,\n",
    "               algorithm,\n",
    "               ('n_gen', 1000),\n",
    "               seed=1,\n",
    "               verbose=False)\n",
    "\n",
    "plot = Scatter()\n",
    "plot.add(problem.pareto_front(), plot_type=\"line\", color=\"black\", alpha=0.7)\n",
    "plot.add(res.F, facecolor=\"none\", edgecolor=\"red\")\n",
    "plot.show()"
   ]
  },
  {
   "cell_type": "code",
   "execution_count": 48,
   "metadata": {},
   "outputs": [
    {
     "data": {
      "text/plain": [
       "array([[-4.89894635e-03,  1.97716778e+01],\n",
       "       [-4.89894635e-03,  1.97716778e+01],\n",
       "       [ 1.29300556e-02,  3.35026377e+00],\n",
       "       [ 1.29300556e-02,  3.35026377e+00],\n",
       "       [ 2.16900509e-02,  3.07022091e+00],\n",
       "       [ 2.17130722e-02,  2.98917750e+00],\n",
       "       [ 2.44124199e-02,  2.51229237e+00],\n",
       "       [ 2.44124199e-02,  2.51229237e+00],\n",
       "       [ 3.17602468e-02,  2.38667326e+00],\n",
       "       [ 3.17602468e-02,  2.38667326e+00],\n",
       "       [ 4.00995172e-02,  2.27619700e+00],\n",
       "       [ 4.00995172e-02,  2.27619700e+00],\n",
       "       [ 4.11084052e-02,  1.90860627e+00],\n",
       "       [ 4.14114985e-02,  1.90175939e+00],\n",
       "       [ 4.55980979e-02,  1.78527795e+00],\n",
       "       [ 4.64676309e-02,  1.73080610e+00],\n",
       "       [ 6.07936262e-02,  1.66055318e+00],\n",
       "       [ 6.67325959e-02,  1.62387049e+00],\n",
       "       [ 6.83012449e-02,  1.53366690e+00],\n",
       "       [ 7.45074003e-02,  1.51254752e+00],\n",
       "       [ 7.46101086e-02,  1.50175118e+00],\n",
       "       [ 8.50406752e-02,  1.41616833e+00],\n",
       "       [ 8.50406752e-02,  1.41616833e+00],\n",
       "       [ 8.79813839e-02,  1.20516490e+00],\n",
       "       [ 8.79813839e-02,  1.20516490e+00],\n",
       "       [ 1.07804044e-01,  1.13865410e+00],\n",
       "       [ 1.08295134e-01,  1.13620678e+00],\n",
       "       [ 1.24787651e-01,  1.10794733e+00],\n",
       "       [ 1.26199573e-01,  1.06252695e+00],\n",
       "       [ 1.32920509e-01,  1.05967574e+00],\n",
       "       [ 1.36202039e-01,  8.11331804e-01],\n",
       "       [ 1.57951810e-01,  8.06960262e-01],\n",
       "       [ 1.57951810e-01,  8.06960262e-01],\n",
       "       [ 1.69663167e-01,  7.86184415e-01],\n",
       "       [ 1.78418963e-01,  7.73860215e-01],\n",
       "       [ 1.94512281e-01,  7.39483171e-01],\n",
       "       [ 2.02314585e-01,  7.11113426e-01],\n",
       "       [ 2.06898612e-01,  6.56231797e-01],\n",
       "       [ 2.25293894e-01,  6.52099045e-01],\n",
       "       [ 2.45800134e-01,  6.43417511e-01],\n",
       "       [ 2.66458375e-01,  6.30744427e-01],\n",
       "       [ 2.66517609e-01,  6.30268893e-01],\n",
       "       [ 2.89725469e-01,  5.81922509e-01],\n",
       "       [ 2.89725469e-01,  5.81922509e-01],\n",
       "       [ 3.00560074e-01,  5.67335020e-01],\n",
       "       [ 3.16130544e-01,  6.40093882e+00],\n",
       "       [ 3.16130544e-01,  6.40093882e+00],\n",
       "       [ 3.19841278e-01,  6.17424856e+00],\n",
       "       [ 3.19841278e-01,  6.17424856e+00],\n",
       "       [ 3.20588295e-01,  5.15660231e+00],\n",
       "       [ 3.20617499e-01,  5.14487077e+00],\n",
       "       [ 3.21944966e-01,  4.67874186e+00],\n",
       "       [ 3.24749558e-01,  4.54378874e+00],\n",
       "       [ 3.24749558e-01,  4.54378874e+00],\n",
       "       [ 3.24842891e-01,  5.59798376e-01],\n",
       "       [ 3.27451723e-01,  3.78261830e+00],\n",
       "       [ 3.27451723e-01,  3.78261830e+00],\n",
       "       [ 3.32096339e-01,  3.33555121e+00],\n",
       "       [ 3.32096339e-01,  3.33555121e+00],\n",
       "       [ 3.35720231e-01,  3.12702652e+00],\n",
       "       [ 3.35958489e-01,  3.06973317e+00],\n",
       "       [ 3.38452354e-01,  2.71028324e+00],\n",
       "       [ 3.43979676e-01,  2.64974516e+00],\n",
       "       [ 3.44998459e-01,  2.44194223e+00],\n",
       "       [ 3.48587411e-01,  5.53199305e-01],\n",
       "       [ 3.51877515e-01,  2.34192668e+00],\n",
       "       [ 3.51877515e-01,  2.34192668e+00],\n",
       "       [ 3.55340649e-01,  2.27651336e+00],\n",
       "       [ 3.56412613e-01,  2.04224310e+00],\n",
       "       [ 3.56412613e-01,  2.04224310e+00],\n",
       "       [ 3.63973891e-01,  1.87535689e+00],\n",
       "       [ 3.64332385e-01,  1.72905082e+00],\n",
       "       [ 3.69223412e-01,  1.65434704e+00],\n",
       "       [ 3.71544999e-01,  1.50242275e+00],\n",
       "       [ 3.75241334e-01,  1.48956907e+00],\n",
       "       [ 3.78113218e-01,  1.40268458e+00],\n",
       "       [ 3.81004644e-01,  1.37081575e+00],\n",
       "       [ 3.82975588e-01,  5.33621282e-01],\n",
       "       [ 3.86828896e-01,  1.27502338e+00],\n",
       "       [ 3.90981491e-01,  1.23318334e+00],\n",
       "       [ 3.91937816e-01,  1.15604232e+00],\n",
       "       [ 3.96635460e-01,  1.11514189e+00],\n",
       "       [ 4.02006381e-01,  1.08075866e+00],\n",
       "       [ 4.06071506e-01,  1.01149132e+00],\n",
       "       [ 4.08684861e-01,  5.27407357e-01],\n",
       "       [ 4.14726208e-01,  9.39668609e-01],\n",
       "       [ 4.23233092e-01,  8.95815030e-01],\n",
       "       [ 4.31010618e-01,  8.66337616e-01],\n",
       "       [ 4.34406856e-01,  8.02356907e-01],\n",
       "       [ 4.34881115e-01,  5.14856935e-01],\n",
       "       [ 4.47697211e-01,  7.69151951e-01],\n",
       "       [ 4.50321946e-01,  7.50534469e-01],\n",
       "       [ 4.58458275e-01,  6.73872895e-01],\n",
       "       [ 4.62171626e-01,  6.47794684e-01],\n",
       "       [ 4.67496941e-01,  6.12996621e-01],\n",
       "       [ 4.73883282e-01,  5.01028075e-01],\n",
       "       [ 4.76257120e-01,  5.75724465e-01],\n",
       "       [ 4.81495494e-01,  5.42634053e-01],\n",
       "       [ 4.85605385e-01,  5.27175174e-01],\n",
       "       [ 4.95936278e-01,  5.01648922e-01]])"
      ]
     },
     "execution_count": 48,
     "metadata": {},
     "output_type": "execute_result"
    }
   ],
   "source": [
    "values = res.F\n",
    "sorted_indices = np.argsort(values[:,0])\n",
    "sorted_values = values[sorted_indices]\n",
    "sorted_values"
   ]
  },
  {
   "cell_type": "code",
   "execution_count": 50,
   "metadata": {},
   "outputs": [
    {
     "name": "stdout",
     "output_type": "stream",
     "text": [
      "0.9886122661796388 [0.49593627807500146, 0.5016489224754226]\n"
     ]
    }
   ],
   "source": [
    "best_ratio = 0.0\n",
    "ratio_vals = []\n",
    "for i in sorted_values:\n",
    "    if i[0]/i[1] > best_ratio:\n",
    "        best_ratio = i[0]/i[1]\n",
    "        ratio_vals = [i[0],i[1]]\n",
    "\n",
    "print(best_ratio, ratio_vals)"
   ]
  },
  {
   "cell_type": "code",
   "execution_count": null,
   "metadata": {},
   "outputs": [],
   "source": []
  }
 ],
 "metadata": {
  "kernelspec": {
   "display_name": "Python 3",
   "language": "python",
   "name": "python3"
  },
  "language_info": {
   "codemirror_mode": {
    "name": "ipython",
    "version": 3
   },
   "file_extension": ".py",
   "mimetype": "text/x-python",
   "name": "python",
   "nbconvert_exporter": "python",
   "pygments_lexer": "ipython3",
   "version": "3.10.11"
  },
  "orig_nbformat": 4
 },
 "nbformat": 4,
 "nbformat_minor": 2
}
